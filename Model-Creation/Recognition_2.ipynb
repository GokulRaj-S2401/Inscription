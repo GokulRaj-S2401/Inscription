{
 "cells": [
  {
   "cell_type": "code",
   "execution_count": 2,
   "metadata": {},
   "outputs": [],
   "source": [
    "#importing necessary packages\n",
    "\n",
    "import tensorflow as tf \n",
    "from tensorflow.keras.models import Sequential\n",
    "from tensorflow.keras.layers import Dense, Dropout, Activation, Flatten, Conv2D, MaxPooling2D\n",
    "import pickle\n",
    "from keras.models import model_from_json\n",
    "from keras.models import load_model\n",
    "import matplotlib.pyplot as plt\n",
    "from pathlib import Path\n",
    "import os, pickle\n",
    "import numpy as np"
   ]
  },
  {
   "cell_type": "code",
   "execution_count": 3,
   "metadata": {},
   "outputs": [],
   "source": [
    "#Loading pickle files\n",
    "\n",
    "file_path_X = open(os.path.join(r\"C:\\Users\\gokul sivaraj\\Documents\\ML\\Inscription\\Model-Creation\\X.pickle\"), 'rb')\n",
    "file_path_Y = open(os.path.join(r\"C:\\Users\\gokul sivaraj\\Documents\\ML\\Inscription\\Model-Creation\\Y.pickle\"), 'rb')\n",
    "X = pickle.load(file_path_X)\n",
    "y = pickle.load(file_path_Y)"
   ]
  },
  {
   "cell_type": "code",
   "execution_count": 4,
   "metadata": {},
   "outputs": [],
   "source": [
    "number_of_classes = max(y) + 1 #Number of classes"
   ]
  },
  {
   "cell_type": "code",
   "execution_count": 5,
   "metadata": {},
   "outputs": [],
   "source": [
    "X = X/255.0 #Normalising the images"
   ]
  },
  {
   "cell_type": "code",
   "execution_count": 6,
   "metadata": {},
   "outputs": [
    {
     "name": "stdout",
     "output_type": "stream",
     "text": [
      "(127, 50, 50, 1)\n"
     ]
    }
   ],
   "source": [
    "print(X.shape)"
   ]
  },
  {
   "cell_type": "code",
   "execution_count": 7,
   "metadata": {},
   "outputs": [],
   "source": [
    "# Building the model\n",
    "model = Sequential()\n",
    "# 3 convolutional layers\n",
    "model.add(Conv2D(64, (3, 3), input_shape = X.shape[1:]))\n",
    "model.add(Activation(\"relu\"))\n",
    "model.add(MaxPooling2D(pool_size=(2,2)))\n",
    "\n",
    "model.add(Conv2D(32, (3, 3)))\n",
    "model.add(Activation(\"relu\"))\n",
    "model.add(MaxPooling2D(pool_size=(2,2)))\n",
    "\n",
    "model.add(Conv2D(32, (3, 3)))\n",
    "model.add(Activation(\"relu\"))\n",
    "model.add(MaxPooling2D(pool_size=(2,2)))\n",
    "model.add(Dropout(0.25))\n",
    "\n",
    "# 2 hidden layers\n",
    "model.add(Flatten()) #Transforms all information from previous convolutions into inputs for neurons\n",
    "model.add(Dense(128))\n",
    "model.add(Activation(\"relu\"))\n",
    "\n",
    "model.add(Dense(128))\n",
    "model.add(Activation(\"relu\"))\n",
    "\n",
    "# The output layer for given number of classes\n",
    "model.add(Dense(number_of_classes))\n",
    "model.add(Activation(\"softmax\"))\n",
    "\n",
    "# Compiling the model using some basic parameters\n",
    "model.compile(loss=\"sparse_categorical_crossentropy\",\n",
    "              optimizer=\"adam\",\n",
    "              metrics=[\"accuracy\"])"
   ]
  },
  {
   "cell_type": "code",
   "execution_count": 8,
   "metadata": {
    "scrolled": true
   },
   "outputs": [
    {
     "name": "stdout",
     "output_type": "stream",
     "text": [
      "Epoch 1/40\n",
      "1/1 [==============================] - 3s 3s/step - loss: 3.3337 - accuracy: 0.0263 - val_loss: 3.2445 - val_accuracy: 0.0769\n",
      "Epoch 2/40\n",
      "1/1 [==============================] - 0s 184ms/step - loss: 3.2964 - accuracy: 0.0175 - val_loss: 3.1502 - val_accuracy: 0.0769\n",
      "Epoch 3/40\n",
      "1/1 [==============================] - 0s 167ms/step - loss: 3.2708 - accuracy: 0.0702 - val_loss: 3.0360 - val_accuracy: 0.5385\n",
      "Epoch 4/40\n",
      "1/1 [==============================] - 0s 213ms/step - loss: 3.2334 - accuracy: 0.1404 - val_loss: 2.8842 - val_accuracy: 0.5385\n",
      "Epoch 5/40\n",
      "1/1 [==============================] - 0s 178ms/step - loss: 3.2025 - accuracy: 0.1667 - val_loss: 2.6963 - val_accuracy: 0.5385\n",
      "Epoch 6/40\n",
      "1/1 [==============================] - 0s 170ms/step - loss: 3.1773 - accuracy: 0.1667 - val_loss: 2.5274 - val_accuracy: 0.5385\n",
      "Epoch 7/40\n",
      "1/1 [==============================] - 0s 217ms/step - loss: 3.1491 - accuracy: 0.1667 - val_loss: 2.4484 - val_accuracy: 0.5385\n",
      "Epoch 8/40\n",
      "1/1 [==============================] - 0s 289ms/step - loss: 3.1567 - accuracy: 0.1667 - val_loss: 2.4647 - val_accuracy: 0.5385\n",
      "Epoch 9/40\n",
      "1/1 [==============================] - 0s 235ms/step - loss: 3.1170 - accuracy: 0.1667 - val_loss: 2.5078 - val_accuracy: 0.5385\n",
      "Epoch 10/40\n",
      "1/1 [==============================] - 0s 236ms/step - loss: 3.0855 - accuracy: 0.1667 - val_loss: 2.5462 - val_accuracy: 0.5385\n",
      "Epoch 11/40\n",
      "1/1 [==============================] - 0s 234ms/step - loss: 3.0796 - accuracy: 0.1667 - val_loss: 2.5603 - val_accuracy: 0.5385\n",
      "Epoch 12/40\n",
      "1/1 [==============================] - 0s 236ms/step - loss: 3.0629 - accuracy: 0.1667 - val_loss: 2.5464 - val_accuracy: 0.5385\n",
      "Epoch 13/40\n",
      "1/1 [==============================] - 0s 239ms/step - loss: 3.0424 - accuracy: 0.1667 - val_loss: 2.5033 - val_accuracy: 0.5385\n",
      "Epoch 14/40\n",
      "1/1 [==============================] - 0s 240ms/step - loss: 3.0287 - accuracy: 0.1842 - val_loss: 2.4442 - val_accuracy: 0.5385\n",
      "Epoch 15/40\n",
      "1/1 [==============================] - 0s 245ms/step - loss: 3.0124 - accuracy: 0.1754 - val_loss: 2.3869 - val_accuracy: 0.5385\n",
      "Epoch 16/40\n",
      "1/1 [==============================] - 0s 418ms/step - loss: 3.0095 - accuracy: 0.1667 - val_loss: 2.3587 - val_accuracy: 0.5385\n",
      "Epoch 17/40\n",
      "1/1 [==============================] - 0s 450ms/step - loss: 2.9811 - accuracy: 0.1667 - val_loss: 2.3626 - val_accuracy: 0.5385\n",
      "Epoch 18/40\n",
      "1/1 [==============================] - 0s 410ms/step - loss: 2.9577 - accuracy: 0.1667 - val_loss: 2.3815 - val_accuracy: 0.5385\n",
      "Epoch 19/40\n",
      "1/1 [==============================] - 0s 266ms/step - loss: 2.9336 - accuracy: 0.1842 - val_loss: 2.4038 - val_accuracy: 0.5385\n",
      "Epoch 20/40\n",
      "1/1 [==============================] - 0s 296ms/step - loss: 2.9043 - accuracy: 0.1754 - val_loss: 2.4162 - val_accuracy: 0.5385\n",
      "Epoch 21/40\n",
      "1/1 [==============================] - 0s 286ms/step - loss: 2.8777 - accuracy: 0.1754 - val_loss: 2.4082 - val_accuracy: 0.5385\n",
      "Epoch 22/40\n",
      "1/1 [==============================] - 0s 286ms/step - loss: 2.8198 - accuracy: 0.1930 - val_loss: 2.3727 - val_accuracy: 0.4615\n",
      "Epoch 23/40\n",
      "1/1 [==============================] - 0s 250ms/step - loss: 2.7778 - accuracy: 0.2719 - val_loss: 2.3238 - val_accuracy: 0.4615\n",
      "Epoch 24/40\n",
      "1/1 [==============================] - 0s 220ms/step - loss: 2.7196 - accuracy: 0.2368 - val_loss: 2.2672 - val_accuracy: 0.4615\n",
      "Epoch 25/40\n",
      "1/1 [==============================] - 0s 234ms/step - loss: 2.6529 - accuracy: 0.2632 - val_loss: 2.2250 - val_accuracy: 0.4615\n",
      "Epoch 26/40\n",
      "1/1 [==============================] - 0s 234ms/step - loss: 2.5597 - accuracy: 0.3070 - val_loss: 2.1961 - val_accuracy: 0.3846\n",
      "Epoch 27/40\n",
      "1/1 [==============================] - 0s 233ms/step - loss: 2.5161 - accuracy: 0.3158 - val_loss: 2.1857 - val_accuracy: 0.3846\n",
      "Epoch 28/40\n",
      "1/1 [==============================] - 0s 232ms/step - loss: 2.3861 - accuracy: 0.3947 - val_loss: 2.1781 - val_accuracy: 0.3846\n",
      "Epoch 29/40\n",
      "1/1 [==============================] - 0s 217ms/step - loss: 2.3213 - accuracy: 0.4123 - val_loss: 2.1410 - val_accuracy: 0.3846\n",
      "Epoch 30/40\n",
      "1/1 [==============================] - 0s 230ms/step - loss: 2.1934 - accuracy: 0.4123 - val_loss: 2.1196 - val_accuracy: 0.3846\n",
      "Epoch 31/40\n",
      "1/1 [==============================] - 0s 233ms/step - loss: 2.0643 - accuracy: 0.4386 - val_loss: 2.1485 - val_accuracy: 0.3846\n",
      "Epoch 32/40\n",
      "1/1 [==============================] - 0s 218ms/step - loss: 1.9882 - accuracy: 0.4211 - val_loss: 2.1978 - val_accuracy: 0.3077\n",
      "Epoch 33/40\n",
      "1/1 [==============================] - 0s 234ms/step - loss: 1.8149 - accuracy: 0.5088 - val_loss: 2.2704 - val_accuracy: 0.3846\n",
      "Epoch 34/40\n",
      "1/1 [==============================] - 0s 233ms/step - loss: 1.6518 - accuracy: 0.5702 - val_loss: 2.3695 - val_accuracy: 0.4615\n",
      "Epoch 35/40\n",
      "1/1 [==============================] - 0s 237ms/step - loss: 1.5539 - accuracy: 0.5877 - val_loss: 2.4108 - val_accuracy: 0.5385\n",
      "Epoch 36/40\n",
      "1/1 [==============================] - 0s 234ms/step - loss: 1.4574 - accuracy: 0.6140 - val_loss: 2.5035 - val_accuracy: 0.4615\n",
      "Epoch 37/40\n",
      "1/1 [==============================] - 0s 232ms/step - loss: 1.2521 - accuracy: 0.6842 - val_loss: 2.5799 - val_accuracy: 0.4615\n",
      "Epoch 38/40\n",
      "1/1 [==============================] - 0s 193ms/step - loss: 1.1385 - accuracy: 0.7632 - val_loss: 2.6585 - val_accuracy: 0.5385\n",
      "Epoch 39/40\n",
      "1/1 [==============================] - 0s 192ms/step - loss: 1.0476 - accuracy: 0.7544 - val_loss: 2.7453 - val_accuracy: 0.5385\n",
      "Epoch 40/40\n",
      "1/1 [==============================] - 0s 215ms/step - loss: 0.8974 - accuracy: 0.7807 - val_loss: 2.9202 - val_accuracy: 0.5385\n"
     ]
    }
   ],
   "source": [
    "# Training the model, with 40 iterations\n",
    "# validation_split corresponds to the percentage of images used for the validation phase compared to all the images\n",
    "history = model.fit(np.array(X), np.array(y), batch_size=128, epochs=40, validation_split=0.1)"
   ]
  },
  {
   "cell_type": "code",
   "execution_count": 9,
   "metadata": {},
   "outputs": [
    {
     "name": "stdout",
     "output_type": "stream",
     "text": [
      "Model: \"sequential\"\n",
      "_________________________________________________________________\n",
      " Layer (type)                Output Shape              Param #   \n",
      "=================================================================\n",
      " conv2d (Conv2D)             (None, 48, 48, 64)        640       \n",
      "                                                                 \n",
      " activation (Activation)     (None, 48, 48, 64)        0         \n",
      "                                                                 \n",
      " max_pooling2d (MaxPooling2D  (None, 24, 24, 64)       0         \n",
      " )                                                               \n",
      "                                                                 \n",
      " conv2d_1 (Conv2D)           (None, 22, 22, 32)        18464     \n",
      "                                                                 \n",
      " activation_1 (Activation)   (None, 22, 22, 32)        0         \n",
      "                                                                 \n",
      " max_pooling2d_1 (MaxPooling  (None, 11, 11, 32)       0         \n",
      " 2D)                                                             \n",
      "                                                                 \n",
      " conv2d_2 (Conv2D)           (None, 9, 9, 32)          9248      \n",
      "                                                                 \n",
      " activation_2 (Activation)   (None, 9, 9, 32)          0         \n",
      "                                                                 \n",
      " max_pooling2d_2 (MaxPooling  (None, 4, 4, 32)         0         \n",
      " 2D)                                                             \n",
      "                                                                 \n",
      " dropout (Dropout)           (None, 4, 4, 32)          0         \n",
      "                                                                 \n",
      " flatten (Flatten)           (None, 512)               0         \n",
      "                                                                 \n",
      " dense (Dense)               (None, 128)               65664     \n",
      "                                                                 \n",
      " activation_3 (Activation)   (None, 128)               0         \n",
      "                                                                 \n",
      " dense_1 (Dense)             (None, 128)               16512     \n",
      "                                                                 \n",
      " activation_4 (Activation)   (None, 128)               0         \n",
      "                                                                 \n",
      " dense_2 (Dense)             (None, 28)                3612      \n",
      "                                                                 \n",
      " activation_5 (Activation)   (None, 28)                0         \n",
      "                                                                 \n",
      "=================================================================\n",
      "Total params: 114,140\n",
      "Trainable params: 114,140\n",
      "Non-trainable params: 0\n",
      "_________________________________________________________________\n"
     ]
    }
   ],
   "source": [
    "model.summary()"
   ]
  },
  {
   "cell_type": "code",
   "execution_count": null,
   "metadata": {},
   "outputs": [
    {
     "name": "stdout",
     "output_type": "stream",
     "text": [
      "dict_keys(['loss', 'accuracy', 'val_loss', 'val_accuracy'])\n"
     ]
    },
    {
     "data": {
      "text/plain": [
       "<matplotlib.legend.Legend at 0x1d826822ad0>"
      ]
     },
     "execution_count": 10,
     "metadata": {},
     "output_type": "execute_result"
    }
   ],
   "source": [
    "# Printing a graph showing the accuracy changes during the training phase\n",
    "print(history.history.keys())\n",
    "plt.figure(1)\n",
    "plt.plot(history.history['accuracy'])\n",
    "plt.plot(history.history['val_accuracy'])\n",
    "plt.title('model accuracy')\n",
    "plt.ylabel('accuracy')\n",
    "plt.xlabel('epoch')\n",
    "plt.legend(['train', 'validation'], loc='upper left')"
   ]
  },
  {
   "cell_type": "code",
   "execution_count": null,
   "metadata": {},
   "outputs": [],
   "source": [
    "#Saving the model in local machine\n",
    "model.save_weights(\"model.h5\")\n",
    "print(\"Saved model to disk\")\n",
    "\n",
    "model.save('CNN.model')"
   ]
  },
  {
   "cell_type": "code",
   "execution_count": null,
   "metadata": {},
   "outputs": [],
   "source": []
  },
  {
   "cell_type": "code",
   "execution_count": null,
   "metadata": {},
   "outputs": [],
   "source": []
  }
 ],
 "metadata": {
  "kernelspec": {
   "display_name": "Python 3 (ipykernel)",
   "language": "python",
   "name": "python3"
  },
  "language_info": {
   "codemirror_mode": {
    "name": "ipython",
    "version": 3
   },
   "file_extension": ".py",
   "mimetype": "text/x-python",
   "name": "python",
   "nbconvert_exporter": "python",
   "pygments_lexer": "ipython3",
   "version": "3.10.9"
  }
 },
 "nbformat": 4,
 "nbformat_minor": 2
}
